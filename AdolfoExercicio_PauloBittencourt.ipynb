{
  "nbformat": 4,
  "nbformat_minor": 0,
  "metadata": {
    "colab": {
      "name": "AdolfoExercicio_PauloBittencourt",
      "provenance": [],
      "collapsed_sections": [],
      "authorship_tag": "ABX9TyMFaNVgB5YuPaKp/M4i+P/F",
      "include_colab_link": true
    },
    "kernelspec": {
      "name": "python3",
      "display_name": "Python 3"
    },
    "language_info": {
      "name": "python"
    }
  },
  "cells": [
    {
      "cell_type": "markdown",
      "metadata": {
        "id": "view-in-github",
        "colab_type": "text"
      },
      "source": [
        "<a href=\"https://colab.research.google.com/github/PauloMBittencourt/Trabalho_KnapsackProblem/blob/main/AdolfoExercicio_PauloBittencourt.ipynb\" target=\"_parent\"><img src=\"https://colab.research.google.com/assets/colab-badge.svg\" alt=\"Open In Colab\"/></a>"
      ]
    },
    {
      "cell_type": "code",
      "metadata": {
        "colab": {
          "base_uri": "https://localhost:8080/"
        },
        "id": "Vlr7sGlfutXe",
        "outputId": "6aeaaa19-23da-40c4-8919-2000d46d0a7a"
      },
      "source": [
        "import random\n",
        "import numpy\n",
        "from deap import creator, base, tools, algorithms\n",
        "\n",
        "#Definindo variaveis de peso, numero total de itens e numero de gerações\n",
        "Peso_Max = 40\n",
        "Numero_Itens = 20\n",
        "NGEN = 50\n",
        "#Print do peso max da mochila\n",
        "print(\"Esse é o peso maximo da mochila:\")\n",
        "print(Peso_Max)\n",
        "print(\"-\" * 500)\n",
        "\n",
        "#Criando a função para gerar itens aleatorios\n",
        "def createItens(Numero_Itens):\n",
        "  itens = []\n",
        "  for x in range(Numero_Itens):\n",
        "    itens.append({\"Peso\": random.randint(1, 10), \"Valor\": random.uniform(1, 100)})\n",
        "  return itens\n",
        "\n",
        "#Chamando a função para gerar os itens e coloca-los dentro de uma lista\n",
        "itens = createItens(20)\n",
        "print(\"Itens que foram criados:\\n\")\n",
        "for item in items:\n",
        "    print(item)\n",
        "print(\"-\" * 500)\n",
        "\n",
        "#Definindo a Fitness\n",
        "creator.create(\"FitnessMax\", base.Fitness, weights=(1.0,))\n",
        "\n",
        "#Definindo o individuo\n",
        "creator.create(\"Individuo\",list, fitness = creator.FitnessMax)\n",
        "\n",
        "#Inicializando a toolbox\n",
        "toolbox = base.Toolbox()\n",
        "\n",
        "#Criando um atributo booleano aleatorio\n",
        "toolbox.register(\"attr\", random.random)\n",
        "\n",
        "#Criando um Individuo \n",
        "toolbox.register(\"individuo\", tools.initRepeat, \n",
        "                 creator.Individuo, toolbox.attr, n = 5)\n",
        "\n",
        "#Criando uma população\n",
        "toolbox.register(\"populacao\", tools.initRepeat, list, toolbox.individuo)\n",
        "\n",
        "#Criando a função que recebe um indivíduo e retorna uma tupla\n",
        "def evalIten(individuo):\n",
        "  weight = 0.0\n",
        "  value = 0.0\n",
        "  for item in range(len(individuo)):\n",
        "    if individuo[item] > 0.5:\n",
        "      weight += itens[item][\"Peso\"]\n",
        "      value += itens[item][\"Valor\"]\n",
        "    if weight > Peso_Max:\n",
        "      return 10000, 0\n",
        "    return weight, value\n",
        "\n",
        "#Criando a função para pegar itens \n",
        "def getItens(individuo):\n",
        "  pegarItem = []\n",
        "  for x in range(len(individuo)):\n",
        "    if individuo[x] > 0.5:\n",
        "      pegarItem.append((x, itens[x]))\n",
        "  return pegarItem\n",
        "\n",
        "\n",
        "#Registrando a função de fitness\n",
        "toolbox.register(\"evaluate\", evalIten)\n",
        "\n",
        "#Criando os operadoes do crossover e mutação\n",
        "toolbox.register(\"mate\", tools.cxTwoPoint)\n",
        "toolbox.register(\"mutate\", tools.mutFlipBit, indpb = 0.05)\n",
        "\n",
        "#Criando o método do select\n",
        "toolbox.register(\"select\", tools.selNSGA2)\n",
        "\n",
        "#Criando o tamanho da população\n",
        "population = toolbox.populacao(n=300)\n",
        "\n",
        "#Criando e inicializando o processo de evolução\n",
        "for gen in range(NGEN):\n",
        "\n",
        "  offspring = algorithms.varAnd(population, toolbox, cxpb=0.5, mutpb=0.1)\n",
        "\n",
        "  fits = toolbox.map(toolbox.evaluate, offspring)\n",
        "\n",
        "  for fit, ind in zip(fits, offspring):\n",
        "        ind.fitness.values = [fit[1]]\n",
        "\n",
        "  population = toolbox.select(offspring, k=len(population)) \n",
        "\n",
        "#Criandp uma variavel que pega os 10 melhores da ultima posição\n",
        "top10 = tools.selBest(population, k=10)\n",
        "\n",
        "#Prints \n",
        "print(\"Esse é o melhor Individuo da ultima posição:\\n\")\n",
        "print(top10[0])\n",
        "print(\"-\" * 500)\n",
        "\n",
        "itemPegar = getItens(top10[0])\n",
        "print(\"Itens listados por Peso e Valor\")\n",
        "for item in itemPegar:\n",
        "    print(item)"
      ],
      "execution_count": 49,
      "outputs": [
        {
          "output_type": "stream",
          "text": [
            "Requirement already satisfied: deap in /usr/local/lib/python3.7/dist-packages (1.3.1)\n",
            "Requirement already satisfied: numpy in /usr/local/lib/python3.7/dist-packages (from deap) (1.19.5)\n",
            "Esse é o peso maximo da mochila:\n",
            "20\n",
            "--------------------------------------------------------------------------------------------------------------------------------------------------------------------------------------------------------------------------------------------------------------------------------------------------------------------------------------------------------------------------------------------------------------------------------------------------------------------------------------------------------------------\n",
            "Itens que foram criados:\n",
            "\n",
            "{'weight': 3, 'value': 1.130996738084643}\n",
            "{'weight': 7, 'value': 36.218808452370794}\n",
            "{'weight': 5, 'value': 77.23499067754697}\n",
            "{'weight': 1, 'value': 25.005282078747257}\n",
            "{'weight': 1, 'value': 80.04151581734337}\n",
            "{'weight': 1, 'value': 28.19736745041183}\n",
            "{'weight': 7, 'value': 3.5056212050999918}\n",
            "{'weight': 1, 'value': 86.6393283482134}\n",
            "{'weight': 6, 'value': 34.395692291468414}\n",
            "{'weight': 8, 'value': 20.713064440886658}\n",
            "--------------------------------------------------------------------------------------------------------------------------------------------------------------------------------------------------------------------------------------------------------------------------------------------------------------------------------------------------------------------------------------------------------------------------------------------------------------------------------------------------------------------\n"
          ],
          "name": "stdout"
        },
        {
          "output_type": "stream",
          "text": [
            "/usr/local/lib/python3.7/dist-packages/deap/creator.py:141: RuntimeWarning: A class named 'FitnessMax' has already been created and it will be overwritten. Consider deleting previous creation of that class or rename it.\n",
            "  RuntimeWarning)\n",
            "/usr/local/lib/python3.7/dist-packages/deap/creator.py:141: RuntimeWarning: A class named 'Individuo' has already been created and it will be overwritten. Consider deleting previous creation of that class or rename it.\n",
            "  RuntimeWarning)\n"
          ],
          "name": "stderr"
        },
        {
          "output_type": "stream",
          "text": [
            "Esse é o melhor Individuo da ultima posição:\n",
            "\n",
            "[0.7578063999127229, 0.3847762901863365, 0.6746659007588481, 0.0, 0.05780345060850267]\n",
            "--------------------------------------------------------------------------------------------------------------------------------------------------------------------------------------------------------------------------------------------------------------------------------------------------------------------------------------------------------------------------------------------------------------------------------------------------------------------------------------------------------------------\n",
            "Itens listados por Peso e Valor\n",
            "(0, {'Peso': 6, 'Valor': 43.72522492039868})\n",
            "(2, {'Peso': 2, 'Valor': 37.29897546271799})\n"
          ],
          "name": "stdout"
        }
      ]
    }
  ]
}